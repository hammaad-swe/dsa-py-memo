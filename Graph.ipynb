{
  "nbformat": 4,
  "nbformat_minor": 0,
  "metadata": {
    "colab": {
      "provenance": [],
      "authorship_tag": "ABX9TyNDPayFQaYErK+QBctoelqW",
      "include_colab_link": true
    },
    "kernelspec": {
      "name": "python3",
      "display_name": "Python 3"
    },
    "language_info": {
      "name": "python"
    }
  },
  "cells": [
    {
      "cell_type": "markdown",
      "metadata": {
        "id": "view-in-github",
        "colab_type": "text"
      },
      "source": [
        "<a href=\"https://colab.research.google.com/github/hammaad-swe/dsa-py-memo/blob/main/Graph.ipynb\" target=\"_parent\"><img src=\"https://colab.research.google.com/assets/colab-badge.svg\" alt=\"Open In Colab\"/></a>"
      ]
    },
    {
      "cell_type": "code",
      "execution_count": null,
      "metadata": {
        "colab": {
          "base_uri": "https://localhost:8080/"
        },
        "id": "8rkFq4fQUtQC",
        "outputId": "e96bf0e3-26b5-40d1-bbd4-572538178cc5"
      },
      "outputs": [
        {
          "output_type": "stream",
          "name": "stdout",
          "text": [
            "alhamdulillah 1 1\n"
          ]
        }
      ],
      "source": [
        "def alhamdulillah():\n",
        "  print(f\"alhamdulillah {1}\", 1)\n",
        "\n",
        "alhamdulillah()"
      ]
    },
    {
      "cell_type": "code",
      "source": [],
      "metadata": {
        "id": "NbGOq8O-dHW7"
      },
      "execution_count": null,
      "outputs": []
    },
    {
      "cell_type": "markdown",
      "source": [
        "# New section"
      ],
      "metadata": {
        "id": "XRMKc5EFcnhL"
      }
    },
    {
      "cell_type": "code",
      "source": [],
      "metadata": {
        "id": "lULsPMYWVToP"
      },
      "execution_count": null,
      "outputs": []
    }
  ]
}